{
 "cells": [
  {
   "cell_type": "markdown",
   "id": "c32d106d",
   "metadata": {},
   "source": [
    "# Data Dive One\n"
   ]
  },
  {
   "cell_type": "markdown",
   "id": "b6b35f6a",
   "metadata": {},
   "source": [
    "Nottely Seagraves, Teresah Pinho, and Kennidee Jones"
   ]
  },
  {
   "cell_type": "code",
   "execution_count": 30,
   "id": "ab1d75b9",
   "metadata": {},
   "outputs": [],
   "source": [
    "import numpy as np\n",
    "import pandas as pd\n",
    "#used to store and echange complex data: allows  you to save python objects and then later load them back into memory\n",
    "import pickle"
   ]
  },
  {
   "cell_type": "code",
   "execution_count": 31,
   "id": "e8004f95",
   "metadata": {
    "tags": []
   },
   "outputs": [
    {
     "name": "stdout",
     "output_type": "stream",
     "text": [
      "C:\\Users\\14048\\OneDrive - Middle Tennessee State University\\Documents\\School\\DATA3500\\Datadives\\Dive1\\data3500dive1\n"
     ]
    }
   ],
   "source": [
    "#checking working directory\n",
    "%pwd\n",
    "%cd C:/Users/14048/OneDrive - Middle Tennessee State University/Documents/School/DATA3500/Datadives/Dive1/data3500dive1"
   ]
  },
  {
   "cell_type": "code",
   "execution_count": 32,
   "id": "f77b94dc",
   "metadata": {},
   "outputs": [],
   "source": [
    "data = pd.read_csv(\"Loan_Default.csv\", index_col=0)\n"
   ]
  },
  {
   "cell_type": "code",
   "execution_count": 43,
   "id": "f624f4b5",
   "metadata": {
    "tags": []
   },
   "outputs": [
    {
     "data": {
      "text/html": [
       "<div>\n",
       "<style scoped>\n",
       "    .dataframe tbody tr th:only-of-type {\n",
       "        vertical-align: middle;\n",
       "    }\n",
       "\n",
       "    .dataframe tbody tr th {\n",
       "        vertical-align: top;\n",
       "    }\n",
       "\n",
       "    .dataframe thead th {\n",
       "        text-align: right;\n",
       "    }\n",
       "</style>\n",
       "<table border=\"1\" class=\"dataframe\">\n",
       "  <thead>\n",
       "    <tr style=\"text-align: right;\">\n",
       "      <th></th>\n",
       "      <th>year</th>\n",
       "      <th>loan_limit</th>\n",
       "      <th>Gender</th>\n",
       "      <th>approv_in_adv</th>\n",
       "      <th>loan_type</th>\n",
       "      <th>loan_purpose</th>\n",
       "      <th>Credit_Worthiness</th>\n",
       "      <th>open_credit</th>\n",
       "      <th>business_or_commercial</th>\n",
       "      <th>loan_amount</th>\n",
       "      <th>...</th>\n",
       "      <th>credit_type</th>\n",
       "      <th>Credit_Score</th>\n",
       "      <th>co-applicant_credit_type</th>\n",
       "      <th>age</th>\n",
       "      <th>submission_of_application</th>\n",
       "      <th>LTV</th>\n",
       "      <th>Region</th>\n",
       "      <th>Security_Type</th>\n",
       "      <th>Status</th>\n",
       "      <th>dtir1</th>\n",
       "    </tr>\n",
       "    <tr>\n",
       "      <th>ID</th>\n",
       "      <th></th>\n",
       "      <th></th>\n",
       "      <th></th>\n",
       "      <th></th>\n",
       "      <th></th>\n",
       "      <th></th>\n",
       "      <th></th>\n",
       "      <th></th>\n",
       "      <th></th>\n",
       "      <th></th>\n",
       "      <th></th>\n",
       "      <th></th>\n",
       "      <th></th>\n",
       "      <th></th>\n",
       "      <th></th>\n",
       "      <th></th>\n",
       "      <th></th>\n",
       "      <th></th>\n",
       "      <th></th>\n",
       "      <th></th>\n",
       "      <th></th>\n",
       "    </tr>\n",
       "  </thead>\n",
       "  <tbody>\n",
       "    <tr>\n",
       "      <th>24890</th>\n",
       "      <td>2019</td>\n",
       "      <td>cf</td>\n",
       "      <td>NaN</td>\n",
       "      <td>nopre</td>\n",
       "      <td>type1</td>\n",
       "      <td>p1</td>\n",
       "      <td>l1</td>\n",
       "      <td>nopc</td>\n",
       "      <td>nob/c</td>\n",
       "      <td>116500</td>\n",
       "      <td>...</td>\n",
       "      <td>EXP</td>\n",
       "      <td>758</td>\n",
       "      <td>CIB</td>\n",
       "      <td>25-34</td>\n",
       "      <td>to_inst</td>\n",
       "      <td>98.728814</td>\n",
       "      <td>south</td>\n",
       "      <td>direct</td>\n",
       "      <td>1</td>\n",
       "      <td>45.0</td>\n",
       "    </tr>\n",
       "    <tr>\n",
       "      <th>24891</th>\n",
       "      <td>2019</td>\n",
       "      <td>cf</td>\n",
       "      <td>Male</td>\n",
       "      <td>nopre</td>\n",
       "      <td>type2</td>\n",
       "      <td>p1</td>\n",
       "      <td>l1</td>\n",
       "      <td>nopc</td>\n",
       "      <td>b/c</td>\n",
       "      <td>206500</td>\n",
       "      <td>...</td>\n",
       "      <td>EQUI</td>\n",
       "      <td>552</td>\n",
       "      <td>EXP</td>\n",
       "      <td>55-64</td>\n",
       "      <td>to_inst</td>\n",
       "      <td>NaN</td>\n",
       "      <td>North</td>\n",
       "      <td>direct</td>\n",
       "      <td>1</td>\n",
       "      <td>NaN</td>\n",
       "    </tr>\n",
       "    <tr>\n",
       "      <th>24892</th>\n",
       "      <td>2019</td>\n",
       "      <td>cf</td>\n",
       "      <td>Male</td>\n",
       "      <td>pre</td>\n",
       "      <td>type1</td>\n",
       "      <td>p1</td>\n",
       "      <td>l1</td>\n",
       "      <td>nopc</td>\n",
       "      <td>nob/c</td>\n",
       "      <td>406500</td>\n",
       "      <td>...</td>\n",
       "      <td>EXP</td>\n",
       "      <td>834</td>\n",
       "      <td>CIB</td>\n",
       "      <td>35-44</td>\n",
       "      <td>to_inst</td>\n",
       "      <td>80.019685</td>\n",
       "      <td>south</td>\n",
       "      <td>direct</td>\n",
       "      <td>0</td>\n",
       "      <td>46.0</td>\n",
       "    </tr>\n",
       "    <tr>\n",
       "      <th>24893</th>\n",
       "      <td>2019</td>\n",
       "      <td>cf</td>\n",
       "      <td>Male</td>\n",
       "      <td>nopre</td>\n",
       "      <td>type1</td>\n",
       "      <td>p4</td>\n",
       "      <td>l1</td>\n",
       "      <td>nopc</td>\n",
       "      <td>nob/c</td>\n",
       "      <td>456500</td>\n",
       "      <td>...</td>\n",
       "      <td>EXP</td>\n",
       "      <td>587</td>\n",
       "      <td>CIB</td>\n",
       "      <td>45-54</td>\n",
       "      <td>not_inst</td>\n",
       "      <td>69.376900</td>\n",
       "      <td>North</td>\n",
       "      <td>direct</td>\n",
       "      <td>0</td>\n",
       "      <td>42.0</td>\n",
       "    </tr>\n",
       "    <tr>\n",
       "      <th>24894</th>\n",
       "      <td>2019</td>\n",
       "      <td>cf</td>\n",
       "      <td>Joint</td>\n",
       "      <td>pre</td>\n",
       "      <td>type1</td>\n",
       "      <td>p1</td>\n",
       "      <td>l1</td>\n",
       "      <td>nopc</td>\n",
       "      <td>nob/c</td>\n",
       "      <td>696500</td>\n",
       "      <td>...</td>\n",
       "      <td>CRIF</td>\n",
       "      <td>602</td>\n",
       "      <td>EXP</td>\n",
       "      <td>25-34</td>\n",
       "      <td>not_inst</td>\n",
       "      <td>91.886544</td>\n",
       "      <td>North</td>\n",
       "      <td>direct</td>\n",
       "      <td>0</td>\n",
       "      <td>39.0</td>\n",
       "    </tr>\n",
       "  </tbody>\n",
       "</table>\n",
       "<p>5 rows × 33 columns</p>\n",
       "</div>"
      ],
      "text/plain": [
       "       year loan_limit Gender approv_in_adv loan_type loan_purpose  \\\n",
       "ID                                                                   \n",
       "24890  2019         cf    NaN         nopre     type1           p1   \n",
       "24891  2019         cf   Male         nopre     type2           p1   \n",
       "24892  2019         cf   Male           pre     type1           p1   \n",
       "24893  2019         cf   Male         nopre     type1           p4   \n",
       "24894  2019         cf  Joint           pre     type1           p1   \n",
       "\n",
       "      Credit_Worthiness open_credit business_or_commercial  loan_amount  ...  \\\n",
       "ID                                                                       ...   \n",
       "24890                l1        nopc                  nob/c       116500  ...   \n",
       "24891                l1        nopc                    b/c       206500  ...   \n",
       "24892                l1        nopc                  nob/c       406500  ...   \n",
       "24893                l1        nopc                  nob/c       456500  ...   \n",
       "24894                l1        nopc                  nob/c       696500  ...   \n",
       "\n",
       "       credit_type  Credit_Score  co-applicant_credit_type    age  \\\n",
       "ID                                                                  \n",
       "24890          EXP           758                       CIB  25-34   \n",
       "24891         EQUI           552                       EXP  55-64   \n",
       "24892          EXP           834                       CIB  35-44   \n",
       "24893          EXP           587                       CIB  45-54   \n",
       "24894         CRIF           602                       EXP  25-34   \n",
       "\n",
       "      submission_of_application        LTV Region  Security_Type Status dtir1  \n",
       "ID                                                                             \n",
       "24890                   to_inst  98.728814  south         direct      1  45.0  \n",
       "24891                   to_inst        NaN  North         direct      1   NaN  \n",
       "24892                   to_inst  80.019685  south         direct      0  46.0  \n",
       "24893                  not_inst  69.376900  North         direct      0  42.0  \n",
       "24894                  not_inst  91.886544  North         direct      0  39.0  \n",
       "\n",
       "[5 rows x 33 columns]"
      ]
     },
     "execution_count": 43,
     "metadata": {},
     "output_type": "execute_result"
    }
   ],
   "source": [
    "data.head()\n"
   ]
  },
  {
   "cell_type": "markdown",
   "id": "b50c5a6e",
   "metadata": {
    "tags": []
   },
   "source": [
    "## Working with missing values.\n",
    "- How we deal with missing values can have a large impact on our work.\n",
    "- Do we delete observations?\n",
    "- Do we fill in observations, and if so, what values do we use?\n",
    "    - Average, Median, Last, Next?\n",
    "    \n",
    "- Workflow includes:\n",
    "    - convert all missing values to null values\n",
    "    - analyze the amount and type of missingness in the data\n",
    "    - appropriately delete or impute missing values\n",
    "    - evaluate and compare the performance of the treated/imputed data\n"
   ]
  },
  {
   "cell_type": "code",
   "execution_count": 34,
   "id": "01f0afcc",
   "metadata": {},
   "outputs": [
    {
     "name": "stdout",
     "output_type": "stream",
     "text": [
      "<class 'pandas.core.frame.DataFrame'>\n",
      "Index: 148670 entries, 24890 to 173559\n",
      "Data columns (total 33 columns):\n",
      " #   Column                     Non-Null Count   Dtype  \n",
      "---  ------                     --------------   -----  \n",
      " 0   year                       148670 non-null  int64  \n",
      " 1   loan_limit                 145326 non-null  object \n",
      " 2   Gender                     148670 non-null  object \n",
      " 3   approv_in_adv              147762 non-null  object \n",
      " 4   loan_type                  148670 non-null  object \n",
      " 5   loan_purpose               148536 non-null  object \n",
      " 6   Credit_Worthiness          148670 non-null  object \n",
      " 7   open_credit                148670 non-null  object \n",
      " 8   business_or_commercial     148670 non-null  object \n",
      " 9   loan_amount                148670 non-null  int64  \n",
      " 10  rate_of_interest           112231 non-null  float64\n",
      " 11  Interest_rate_spread       112031 non-null  float64\n",
      " 12  Upfront_charges            109028 non-null  float64\n",
      " 13  term                       148629 non-null  float64\n",
      " 14  Neg_ammortization          148549 non-null  object \n",
      " 15  interest_only              148670 non-null  object \n",
      " 16  lump_sum_payment           148670 non-null  object \n",
      " 17  property_value             133572 non-null  float64\n",
      " 18  construction_type          148670 non-null  object \n",
      " 19  occupancy_type             148670 non-null  object \n",
      " 20  Secured_by                 148670 non-null  object \n",
      " 21  total_units                148670 non-null  object \n",
      " 22  income                     139520 non-null  float64\n",
      " 23  credit_type                148670 non-null  object \n",
      " 24  Credit_Score               148670 non-null  int64  \n",
      " 25  co-applicant_credit_type   148670 non-null  object \n",
      " 26  age                        148470 non-null  object \n",
      " 27  submission_of_application  148470 non-null  object \n",
      " 28  LTV                        133572 non-null  float64\n",
      " 29  Region                     148670 non-null  object \n",
      " 30  Security_Type              148670 non-null  object \n",
      " 31  Status                     148670 non-null  int64  \n",
      " 32  dtir1                      124549 non-null  float64\n",
      "dtypes: float64(8), int64(4), object(21)\n",
      "memory usage: 38.6+ MB\n"
     ]
    }
   ],
   "source": [
    "data.info()"
   ]
  },
  {
   "cell_type": "markdown",
   "id": "88cee8b7",
   "metadata": {},
   "source": [
    "# How many null?\n",
    "Notice: lots of Null for rates: that is "
   ]
  },
  {
   "cell_type": "code",
   "execution_count": 44,
   "id": "0b319498",
   "metadata": {},
   "outputs": [
    {
     "data": {
      "text/plain": [
       "year                             0\n",
       "loan_limit                    3344\n",
       "Gender                       37659\n",
       "approv_in_adv                  908\n",
       "loan_type                        0\n",
       "loan_purpose                   134\n",
       "Credit_Worthiness                0\n",
       "open_credit                      0\n",
       "business_or_commercial           0\n",
       "loan_amount                      0\n",
       "rate_of_interest             36439\n",
       "Interest_rate_spread         36639\n",
       "Upfront_charges              39642\n",
       "term                            41\n",
       "Neg_ammortization              121\n",
       "interest_only                    0\n",
       "lump_sum_payment                 0\n",
       "property_value               15098\n",
       "construction_type                0\n",
       "occupancy_type                   0\n",
       "Secured_by                       0\n",
       "total_units                      0\n",
       "income                        9150\n",
       "credit_type                      0\n",
       "Credit_Score                     0\n",
       "co-applicant_credit_type         0\n",
       "age                            200\n",
       "submission_of_application      200\n",
       "LTV                          15098\n",
       "Region                           0\n",
       "Security_Type                    0\n",
       "Status                           0\n",
       "dtir1                        24121\n",
       "dtype: int64"
      ]
     },
     "execution_count": 44,
     "metadata": {},
     "output_type": "execute_result"
    }
   ],
   "source": [
    "data.isnull().sum()\n"
   ]
  },
  {
   "cell_type": "code",
   "execution_count": 21,
   "id": "1e941dfe",
   "metadata": {},
   "outputs": [
    {
     "data": {
      "text/plain": [
       "148670"
      ]
     },
     "execution_count": 21,
     "metadata": {},
     "output_type": "execute_result"
    }
   ],
   "source": [
    "#Number of observations(0 indicates the number of rows, 1 indicated number of columns)\n",
    "\n",
    "data.shape[0]"
   ]
  },
  {
   "cell_type": "code",
   "execution_count": 42,
   "id": "0c63d5b2",
   "metadata": {},
   "outputs": [
    {
     "data": {
      "text/plain": [
       "Series([], Name: Gender, dtype: object)"
      ]
     },
     "execution_count": 42,
     "metadata": {},
     "output_type": "execute_result"
    }
   ],
   "source": []
  },
  {
   "cell_type": "code",
   "execution_count": 41,
   "id": "d514f00c",
   "metadata": {},
   "outputs": [],
   "source": [
    "#replace \"sex not available\" with null\n",
    "\n",
    "# Check for NaN values in the 'Gender' column\n",
    "data.Gender[data.Gender == 'Sex Not Available'] \n"
   ]
  },
  {
   "cell_type": "code",
   "execution_count": 39,
   "id": "07dc3bc2",
   "metadata": {},
   "outputs": [
    {
     "name": "stderr",
     "output_type": "stream",
     "text": [
      "C:\\Users\\14048\\AppData\\Local\\Temp\\ipykernel_11912\\3611327653.py:2: SettingWithCopyWarning: \n",
      "A value is trying to be set on a copy of a slice from a DataFrame\n",
      "\n",
      "See the caveats in the documentation: https://pandas.pydata.org/pandas-docs/stable/user_guide/indexing.html#returning-a-view-versus-a-copy\n",
      "  data.Gender[data.Gender == 'Sex Not Available'] = np.nan\n"
     ]
    }
   ],
   "source": [
    "#replace sex not found with na\n",
    "data.Gender[data.Gender == 'Sex Not Available'] = np.nan\n",
    "# Check for NaN values in the 'Gender' column\n",
    "nan_values = data.Gender.isna()\n"
   ]
  },
  {
   "cell_type": "code",
   "execution_count": null,
   "id": "3053e4f4",
   "metadata": {},
   "outputs": [],
   "source": []
  }
 ],
 "metadata": {
  "kernelspec": {
   "display_name": "Python 3 (ipykernel)",
   "language": "python",
   "name": "python3"
  },
  "language_info": {
   "codemirror_mode": {
    "name": "ipython",
    "version": 3
   },
   "file_extension": ".py",
   "mimetype": "text/x-python",
   "name": "python",
   "nbconvert_exporter": "python",
   "pygments_lexer": "ipython3",
   "version": "3.11.5"
  }
 },
 "nbformat": 4,
 "nbformat_minor": 5
}
