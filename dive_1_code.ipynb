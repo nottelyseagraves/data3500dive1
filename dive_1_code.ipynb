{
 "cells": [
  {
   "cell_type": "markdown",
   "id": "c32d106d",
   "metadata": {},
   "source": [
    "# Data Dive One\n"
   ]
  },
  {
   "cell_type": "markdown",
   "id": "b6b35f6a",
   "metadata": {},
   "source": [
    "Nottely Seagraves, Teresah Pinho, and Kennidee Jones"
   ]
  },
  {
   "cell_type": "code",
   "execution_count": 1,
   "id": "5ac8ce7e",
   "metadata": {},
   "outputs": [
    {
     "data": {
      "text/plain": [
       "'C:\\\\Users\\\\14048\\\\OneDrive - Middle Tennessee State University\\\\Documents\\\\School\\\\DATA3500\\\\Datadives\\\\Dive1\\\\data3500dive1'"
      ]
     },
     "execution_count": 1,
     "metadata": {},
     "output_type": "execute_result"
    }
   ],
   "source": [
    "\n",
    "%pwd\n",
    "%cd /home/user/my_project"
   ]
  },
  {
   "cell_type": "code",
   "execution_count": null,
   "id": "c974d7fb",
   "metadata": {},
   "outputs": [],
   "source": []
  }
 ],
 "metadata": {
  "kernelspec": {
   "display_name": "Python 3 (ipykernel)",
   "language": "python",
   "name": "python3"
  },
  "language_info": {
   "codemirror_mode": {
    "name": "ipython",
    "version": 3
   },
   "file_extension": ".py",
   "mimetype": "text/x-python",
   "name": "python",
   "nbconvert_exporter": "python",
   "pygments_lexer": "ipython3",
   "version": "3.9.13"
  }
 },
 "nbformat": 4,
 "nbformat_minor": 5
}
